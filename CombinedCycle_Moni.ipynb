{
  "nbformat": 4,
  "nbformat_minor": 0,
  "metadata": {
    "colab": {
      "provenance": []
    },
    "kernelspec": {
      "name": "python3",
      "display_name": "Python 3"
    },
    "language_info": {
      "name": "python"
    }
  },
  "cells": [
    {
      "cell_type": "markdown",
      "source": [
        "# <font color=#FF3399> Combined Cycle (ideal)\n",
        "## <font color=#FF3399> Brayton (ideal) + Rankine (ideal)\n",
        "\n",
        "### author: Monica Miranda Rodrigues\n",
        "</font>"
      ],
      "metadata": {
        "id": "4GsLEuZYMk5Z"
      }
    },
    {
      "cell_type": "code",
      "source": [
        "!pip install CoolProp\n",
        "from CoolProp.CoolProp import PropsSI\n",
        "\n",
        "print(\"======================\")\n",
        "print(\"Combined Cycle - Ideal\")\n",
        "print(\"======================\")"
      ],
      "metadata": {
        "colab": {
          "base_uri": "https://localhost:8080/"
        },
        "id": "lu6pTaPbNI-C",
        "outputId": "71205511-18dc-4131-cdc9-35096c8ba00c"
      },
      "execution_count": null,
      "outputs": [
        {
          "output_type": "stream",
          "name": "stdout",
          "text": [
            "Requirement already satisfied: CoolProp in /usr/local/lib/python3.11/dist-packages (6.8.0)\n",
            "======================\n",
            "Combined Cycle - Ideal\n",
            "======================\n"
          ]
        }
      ]
    },
    {
      "cell_type": "markdown",
      "source": [
        "Combined Cycle Ideal: Brayton (B) + Rankine (R)\n",
        "\n",
        "![Combined Cycle](https://drive.google.com/uc?id=1LWFLA0MJ07DNHj5As_sfE4rbDcM3WA2F)"
      ],
      "metadata": {
        "id": "jIjW4SCwNYSH"
      }
    },
    {
      "cell_type": "code",
      "execution_count": null,
      "metadata": {
        "id": "I1zQQ73CMf37"
      },
      "outputs": [],
      "source": [
        "#Constants\n",
        "r_c = 16 # compressor ratio = P2/P1  1/r=P4/P3\n",
        "k_air = 1.4\n",
        "Cp_air = 1.004 #KJ/Kg.K\n",
        "R_air = 0.287 #KJ/Kg.K"
      ]
    },
    {
      "cell_type": "code",
      "source": [
        "print(\"Brayton Cycle (Ideal)\")\n",
        "print(\"=====================\")\n",
        "print(\"                     \")\n",
        "\n",
        "print('===================')\n",
        "print('Line 1 - Compressor')\n",
        "print('===================')\n",
        "P1 = 100 #KPa\n",
        "T1 = 300 #K\n",
        "print(\"T1=\",T1,\"K\")\n",
        "H1=round((Cp_air*T1),2)\n",
        "print (\"H1=\",H1,\"KJ/Kg\")\n",
        "print('===========================')\n",
        "print('Line 2 - Combustion Chamber')\n",
        "print('===========================')\n",
        "P2= 1600 #KPa\n",
        "T2 = round((T1*((r_c)**((k_air-1)/k_air))),2)\n",
        "print(\"T2=\",T2,\"K\")\n",
        "H2=round((Cp_air*T2),2)\n",
        "print (\"H2=\",H2,\"KJ/Kg\")\n",
        "print('====================')\n",
        "print('Line 3 - Turbine Gás')\n",
        "print('====================')\n",
        "P3 = 1600 #KPa\n",
        "T3 = 2000 #K\n",
        "print(\"T3=\",T3,\"K\")\n",
        "H3=round((Cp_air*T3),2)\n",
        "print (\"H3=\",H3,\"KJ/Kg\")\n",
        "print('=========================')\n",
        "print('Line 4 - Heat Recuperator')\n",
        "print('=========================')\n",
        "P4 = 100 #KPa\n",
        "T4 = round((T3*(1/r_c)**((k_air-1)/k_air)),2)\n",
        "print(\"T4=\",T4,\"K\")\n",
        "H4=round((Cp_air*T4),2)\n",
        "print (\"H4=\",H4,\"KJ/Kg\")\n"
      ],
      "metadata": {
        "colab": {
          "base_uri": "https://localhost:8080/"
        },
        "id": "_Ar9Kj44Ny8z",
        "outputId": "e766364b-6281-4d90-b764-edb16ed89989"
      },
      "execution_count": null,
      "outputs": [
        {
          "output_type": "stream",
          "name": "stdout",
          "text": [
            "Brayton Cycle (Ideal)\n",
            "=====================\n",
            "                     \n",
            "===================\n",
            "Line 1 - Compressor\n",
            "===================\n",
            "T1= 300 K\n",
            "H1= 301.2 KJ/Kg\n",
            "===========================\n",
            "Line 2 - Combustion Chamber\n",
            "===========================\n",
            "T2= 662.45 K\n",
            "H2= 665.1 KJ/Kg\n",
            "====================\n",
            "Line 3 - Turbine Gás\n",
            "====================\n",
            "T3= 2000 K\n",
            "H3= 2008.0 KJ/Kg\n",
            "=========================\n",
            "Line 4 - Heat Recuperator\n",
            "=========================\n",
            "T4= 905.72 K\n",
            "H4= 909.34 KJ/Kg\n"
          ]
        }
      ]
    },
    {
      "cell_type": "code",
      "source": [
        "from CoolProp.CoolProp import PropsSI\n",
        "\n",
        "print(\"Rankine Cycle Ideal\")\n",
        "print(\"====================\")\n",
        "print(\"                   \")\n",
        "# Steam Table:  https://www.thermopedia.com/content/1150/\n",
        "print(\"============================================================\")\n",
        "print(\"Line 6 - heat exchanger (Recuperator) outlet (former boiler)\")\n",
        "print(\"============================================================\")\n",
        "P6 = 8000E3 #Pa\n",
        "x6 = 1 # saturated steam\n",
        "T6 = PropsSI('T','P',P6,'Q',x6,'Water')\n",
        "T6 = round(T6,2)\n",
        "print (\"T6=\",T6,\"K\")\n",
        "H_V6 = PropsSI('H','P',P6,'Q',x6,'Water')\n",
        "h6 = round((H_V6/1000),2)\n",
        "print (\"H_V_(6)=\",h6,\"KJ/Kg\")\n",
        "S_V6 = PropsSI('S','P',P6,'Q',x6,'Water')\n",
        "S6 = round((S_V6/1000),2)\n",
        "print (\"S_V_(6)=\",S6,\"KJ/Kg.K\")\n",
        "# Condensador a pressão constante 7-8\n",
        "print(\"========================================\")\n",
        "print(\"Line 8 - Condenser outlet and pump inlet\")\n",
        "print(\"========================================\")\n",
        "P8 = 20E3 #Pa\n",
        "x8 = 0 # saturated liquid\n",
        "T8 = PropsSI('T','P',P8,'Q',x8,'Water')\n",
        "T8 = round(T8,2)\n",
        "print (\"T8=\",T8,\"K\")\n",
        "H_V8 = PropsSI('H','P',P8,'Q',x8,'Water')\n",
        "h8 = round((H_V8/1000),2)\n",
        "print (\"H_L_(8)=\",h8,\"KJ/Kg\")\n",
        "S_L8 = PropsSI('S','P',P8,'Q',x8,'Water')\n",
        "S8 = round((S_L8/1000),2)\n",
        "print (\"S_L_(8)=\",S8,\"KJ/Kg.K\")\n",
        "print(\"========================================\")\n",
        "print(\"Line 7 - Turbine outlet - ISENTROPIC (6)\")\n",
        "print(\"========================================\")\n",
        "# after the calculation of line 8 # (P7 = P8)\n",
        "# interpolating between the liquid fraction x=0 and vapor x=1 because it's a mixture\n",
        "S7 = round((S_V6/1000),2)\n",
        "print (\"S7=\",S7,\"KJ/Kg.K\")\n",
        "T7 = T8\n",
        "print(\"T7=\", round(T7,2),\"K\")\n",
        "S_L8 = PropsSI('S','P',P8,'Q',0,'Water')\n",
        "S_V8 = PropsSI('S','P',P8,'Q',1,'Water')\n",
        "S_V7 = S_V6\n",
        "X7 = (S_V7 - S_L8) / (S_V8 - S_L8)\n",
        "x7 = round(X7,3)\n",
        "print (\"x7=\",x7)\n",
        "H_L8 = PropsSI('H','P',P8,'Q',0,'Water')\n",
        "h_L8 = round((H_L8/1000),2)\n",
        "#print(\"h_L8\", h_L8)\n",
        "H_V8 = PropsSI('H','P',P8,'Q',1,'Water')\n",
        "h_V8 = round((H_V8/1000),2)\n",
        "#print(\"h_V8\", h_V8)\n",
        "H7 = ((x7 - 0)*(h_V8 - h_L8))+h_L8\n",
        "h7 = round(H7,2)\n",
        "print (\"H7=\",h7,\"KJ/Kg\")\n",
        "print(\"=====================================\")\n",
        "print(\"Line 9 - Pump outlet - ISENTROPIC (8)\")\n",
        "print(\"=====================================\")\n",
        "# liquid fraction x=0 and vapor fraction x=1\n",
        "S9 = round((S_L8/1000),2)\n",
        "print (\"S9=\",S9,\"KJ/Kg.K\")\n",
        "V9 = PropsSI('D','P',P8,'Q',0,'Water')\n",
        "v9 = round((1/V9),6)\n",
        "#print(\"V9=\", v9)\n",
        "#Work Pump: Wp = v9.(P9-P8)\n",
        "P9 = 8000 #KPa\n",
        "P8 = 20   #KPa\n",
        "Wp= round((v9*(P9-P8)),5)\n",
        "print(\"Pump Work =\",Wp )\n",
        "#print(\"neglecting the variation of internal energy\")\n",
        "#Wp = h9-h8\n",
        "h9 = round((Wp+h8),2)\n",
        "print(\"H9=\",h9,\"KJ/Kg\")\n",
        "print(\"interpolating the temperature between the enthalpies:\")\n",
        "H_L9L = PropsSI('H','P',20E3,'Q',0,'Water')\n",
        "T9L = round((PropsSI('T','P',20E3,'Q',0,'Water')),2)\n",
        "h_L9L = round((H_L9L/1000),2)\n",
        "print('H9_Low=',h_L9L)\n",
        "H_L9U = PropsSI('H','P',25E3,'Q',0,'Water')\n",
        "T9U = round((PropsSI('T','P',25E3,'Q',0,'Water')),2)\n",
        "h_L9U = round((H_L9U/1000),2)\n",
        "print('H9_Up=',h_L9U)\n",
        "# Display the data as a table\n",
        "import pandas as pd\n",
        "interpola_T9 = {\n",
        "    \"T\": [T9L, \"T9\", T9U],\n",
        "    \"H\": [h_L9L, h9, h_L9U]\n",
        "}\n",
        "tabela = pd.DataFrame(interpola_T9)\n",
        "print(tabela)\n",
        "T9 =round((T9L+ ((h9 - h_L9L) / (h_L9U - h_L9L))*(T9U-T9L)),2)\n",
        "print(\"T9=\",T9,'K')\n",
        "\n"
      ],
      "metadata": {
        "colab": {
          "base_uri": "https://localhost:8080/"
        },
        "id": "TMLh4OTGOHX1",
        "outputId": "1d045905-1d91-4568-cffd-b5702af84c13"
      },
      "execution_count": null,
      "outputs": [
        {
          "output_type": "stream",
          "name": "stdout",
          "text": [
            "Rankine Cycle Ideal\n",
            "====================\n",
            "                   \n",
            "============================================================\n",
            "Line 6 - heat exchanger (Recuperator) outlet (former boiler)\n",
            "============================================================\n",
            "T6= 568.16 K\n",
            "H_V_(6)= 2758.68 KJ/Kg\n",
            "S_V_(6)= 5.74 KJ/Kg.K\n",
            "========================================\n",
            "Line 8 - Condenser outlet and pump inlet\n",
            "========================================\n",
            "T8= 333.21 K\n",
            "H_L_(8)= 251.42 KJ/Kg\n",
            "S_L_(8)= 0.83 KJ/Kg.K\n",
            "========================================\n",
            "Line 7 - Turbine outlet - ISENTROPIC (6)\n",
            "========================================\n",
            "S7= 5.74 KJ/Kg.K\n",
            "T7= 333.21 K\n",
            "x7= 0.694\n",
            "H7= 1887.54 KJ/Kg\n",
            "=====================================\n",
            "Line 9 - Pump outlet - ISENTROPIC (8)\n",
            "=====================================\n",
            "S9= 0.83 KJ/Kg.K\n",
            "Pump Work = 8.11566\n",
            "H9= 259.54 KJ/Kg\n",
            "interpolating the temperature between the enthalpies:\n",
            "H9_Low= 251.42\n",
            "H9_Up= 271.96\n",
            "        T       H\n",
            "0  333.21  251.42\n",
            "1      T9  259.54\n",
            "2  338.11  271.96\n",
            "T9= 335.15 K\n"
          ]
        }
      ]
    },
    {
      "cell_type": "code",
      "source": [
        "print('======================')\n",
        "print('Line 5 - Heat Recovery')\n",
        "print('======================')\n",
        "#Energy Balance\n",
        "#input = output\n",
        "#mB.h4 + mR.h9 = mB.h5 + mR.h6\n",
        "\n",
        "#Calculate the density (rho) using pression ideal gas\n",
        "#P1 = rho.R.T1\n",
        "rho = round((P1/(R_air*T1)),4) #;print(rho)\n",
        "\n",
        "#Calculate the flux\n",
        "flux = 10 #m3/s\n",
        "mB = 10*rho #Kg/s\n",
        "mR = 0.06*mB #Kg/s\n",
        "\n",
        "#Calculate the enthalpy using Energy Balance:\n",
        "h5 = round((H4 + ((mR/mB)*(h9-h6))),2) #KJ/Kh\n",
        "print(\"H5=\",h5,\"KJ/Kg\")\n",
        "\n",
        "#Calculate de Temperature, consider ideal gas\n",
        "T5 = round((h5/Cp_air),2)\n",
        "print(\"T5=\",T5,\"K\")\n"
      ],
      "metadata": {
        "colab": {
          "base_uri": "https://localhost:8080/"
        },
        "id": "t8KgjHsyO2k-",
        "outputId": "5cb3124d-ffec-47e4-e9a6-fb88c95f5b2d"
      },
      "execution_count": null,
      "outputs": [
        {
          "output_type": "stream",
          "name": "stdout",
          "text": [
            "======================\n",
            "Line 5 - Heat Recovery\n",
            "======================\n",
            "H5= 759.39 KJ/Kg\n",
            "T5= 756.36 K\n"
          ]
        }
      ]
    },
    {
      "cell_type": "code",
      "source": [
        "print(\"====================\")\n",
        "print(\"Summary of the Lines\")\n",
        "print(\"====================\")\n",
        "print(\"                    \")\n",
        "\n",
        "\n",
        "# create dictionary\n",
        "resultado_todos = {\n",
        "    \"line\": [1,2,3,4,5,6,7,8,9],\n",
        "    \"P[KPa]\": [P1, P2, P3, P4, 100, int(P6/1000), P8, P8, P9],\n",
        "    \"T[K]\":[300, T2, 2000, T4, T5, T6, T7, T8, T9],\n",
        "    \"x\":[\"N/A\",\"N/A\",\"N/A\",\"N/A\",\"N/A\",1,x7,0,\"C.L.\"],\n",
        "    \"H[KJ/Kg]\":[H1, H2, H3, H4, h5, h6, h7, h8, h9],\n",
        "    \"S[KJ/Kg.K]\":[\"N/A\",\"N/A\",\"N/A\",\"N/A\",\"N/A\",S6,S6,S8,S8]\n",
        "}\n",
        "#resultado_todos[\"line\"], resultado_todos[\"P[KPa]\"], resultado_todos[\"T[K]\"],resultado_todos[\"x\"],resultado_todos[\"H[KJ/Kg]\"],resultado_todos[\"S[KJ/Kg.K]\"],\n",
        "# create table\n",
        "print(f\"{'line':<7}{'P[KPa]':<10} {'T[K]':<10} {'x':<5} {'H[KJ/Kg]':<10} {'S[KJ/Kg.K]':<10}\")\n",
        "print(\"-\" * 57)\n",
        "for line, p, t, x, h, s in zip(resultado_todos[\"line\"], resultado_todos[\"P[KPa]\"], resultado_todos[\"T[K]\"],resultado_todos[\"x\"],resultado_todos[\"H[KJ/Kg]\"],resultado_todos[\"S[KJ/Kg.K]\"]):\n",
        "    print(f\"{line:<7} {p:<10} {t:<10} {x:<5} {h:<10} {s:<10}\")"
      ],
      "metadata": {
        "colab": {
          "base_uri": "https://localhost:8080/"
        },
        "id": "lY9L7EjoO885",
        "outputId": "8f2964b6-9ecb-43f7-dceb-e0f6d0e0d0b4"
      },
      "execution_count": null,
      "outputs": [
        {
          "output_type": "stream",
          "name": "stdout",
          "text": [
            "====================\n",
            "Summary of the Lines\n",
            "====================\n",
            "                    \n",
            "line   P[KPa]     T[K]       x     H[KJ/Kg]   S[KJ/Kg.K]\n",
            "---------------------------------------------------------\n",
            "1       100        300        N/A   301.2      N/A       \n",
            "2       1600       662.45     N/A   665.1      N/A       \n",
            "3       1600       2000       N/A   2008.0     N/A       \n",
            "4       100        905.72     N/A   909.34     N/A       \n",
            "5       100        756.36     N/A   759.39     N/A       \n",
            "6       8000       568.16     1     2758.68    5.74      \n",
            "7       20         333.21     0.694 1887.54    5.74      \n",
            "8       20         333.21     0     251.42     0.83      \n",
            "9       8000       335.15     C.L.  259.54     0.83      \n"
          ]
        }
      ]
    },
    {
      "cell_type": "code",
      "source": [
        "print(\"Summation of the Heat Rate + Summation of the Work Rate = 0\")\n",
        "print(\"===========================================================\")\n",
        "print(\"   \")\n",
        "#Heat Flux:\n",
        "#=========\n",
        "#Combustion Chamber - Brayton\n",
        "CC = mB*(H3-H2)\n",
        "#Heat Recuperator - Brayton\n",
        "HR_B = mB*(h5-H4)\n",
        "#Heat Exchanger - Brayton\n",
        "HE = mB*(H1-h5)\n",
        "#Heat Recuperator - Rankine\n",
        "HR_V = mR*(h6-h9)\n",
        "#Condenser - Rankine\n",
        "CONDS= mR*(h8-h7)\n",
        "#Flux Heat Global:\n",
        "Global_Heat=round((CC+HR_B+HE+HR_V+CONDS),2)\n",
        "\n",
        "#Work Flux:\n",
        "#=========\n",
        "#Compressor - Brayton\n",
        "COMP = mB*(H2-H1)\n",
        "# Turbine - Gas\n",
        "TG = mB*(H4-H3)\n",
        "#Turbine - vapour\n",
        "TV = mR*(h7-h6)\n",
        "#Pump - Rankine\n",
        "PUMP = mR*(h9-h8)\n",
        "Global_Work=round((COMP+TG+TV+PUMP),2)\n",
        "\n",
        "# create dictionary\n",
        "Rate = {\n",
        "    \"Heat Operation\": [\"Combustion Chamber(B)\",\"Heat Recuperator(B)\",\"Heat Exchanger(B)\",\"Heat Recuperator(R)\",\"Condenser(R)\",\"  \",\"Total (KW)\"],\n",
        "    \"g=m*(ho-hi)\": [round(CC,2), round(HR_B,2), round(HE,2), round(HR_V,2), round(CONDS,2), \"  \", Global_Heat],\n",
        "    \"Work Operation\": [\"Compressor\",\"Turnine G\",\"Turnine V\",\"Pump\",\"  \",\"  \", \"  \"],\n",
        "    \"W=m*(ho-hi)\":[round(COMP,2), round(TG,2), round(TV,2), round(PUMP,2), \" \", \" \",  Global_Work]\n",
        "}\n",
        "# Rate[\"Heat Operation\"], Rate[\"g=m*(ho-hi)\"],Rate[\"Work Operation\"],Rate[\"W=m*(ho-hi)\"]\n",
        "# create table\n",
        "print(f\"{'Heat Operation':<25}{'g=m*(ho-hi)':<15} {'Work Operation':<25} {'W=m*(ho-hi)':<15} \")\n",
        "print(\"-\" * 80)\n",
        "for heat, g, work, w in zip(Rate[\"Heat Operation\"], Rate[\"g=m*(ho-hi)\"],Rate[\"Work Operation\"],Rate[\"W=m*(ho-hi)\"]):\n",
        "    print(f\"{heat:<25} {g:<15} {work:<25} {w:<15}\")\n",
        "\n",
        "print(\"Heat Flux Global =\", Global_Heat,\"KW\")\n",
        "print(\"Work Flux Global =\", Global_Work,\"KW\")\n",
        "print(\"sum=\", round((Global_Heat + Global_Work),2))"
      ],
      "metadata": {
        "colab": {
          "base_uri": "https://localhost:8080/"
        },
        "id": "fuUlmzobPPQI",
        "outputId": "f2f0ea89-f704-49b1-f4b2-3e13780e00d9"
      },
      "execution_count": null,
      "outputs": [
        {
          "output_type": "stream",
          "name": "stdout",
          "text": [
            "Summation of the Heat Rate + Summation of the Work Rate = 0\n",
            "===========================================================\n",
            "   \n",
            "Heat Operation           g=m*(ho-hi)     Work Operation            W=m*(ho-hi)     \n",
            "--------------------------------------------------------------------------------\n",
            "Combustion Chamber(B)     15596.44        Compressor                4226.33        \n",
            "Heat Recuperator(B)       -1741.52        Turnine G                 -12759.84      \n",
            "Heat Exchanger(B)         -5321.42        Turnine V                 -607.05        \n",
            "Heat Recuperator(R)       1741.5          Pump                      5.66           \n",
            "Condenser(R)              -1140.11                                                 \n",
            "                                                                                   \n",
            "Total (KW)                9134.89                                   -9134.89       \n",
            "Heat Flux Global = 9134.89 KW\n",
            "Work Flux Global = -9134.89 KW\n",
            "sum= 0.0\n"
          ]
        }
      ]
    },
    {
      "cell_type": "code",
      "source": [
        "print(\"Max Efficiency\")\n",
        "print(\"==============\")\n",
        "print(\"              \")\n",
        "n_c= round((abs(Global_Work)/CC),2)\n",
        "n_b= round((abs(TG)-abs(COMP))/CC,2)\n",
        "n_r=round(((abs(TV)-abs(PUMP))/HR_V),2)\n",
        "\n",
        "# create dictionary:\n",
        "Eff = {\n",
        "    \"n combined\": [n_c],\n",
        "    \"n Brayton\": [n_b],\n",
        "    \"n Rankine\":[n_r]\n",
        "    }\n",
        "# Eff[\"n combined\"], Eff[\"n Brayton\"],Eff[\"n Rankine]\n",
        "# create table\n",
        "print(f\"{'n combined':<20}{'n Brayton':<20} {'n Rankine':<20}\")\n",
        "print(\"-\" * 52)\n",
        "for nc, nb, nr in zip( Eff[\"n combined\"], Eff[\"n Brayton\"], Eff[\"n Rankine\"]):\n",
        "    print(f\"{nc:<20} {nb:<20} {nr:<20} \")\n"
      ],
      "metadata": {
        "colab": {
          "base_uri": "https://localhost:8080/"
        },
        "id": "2-dB8SbbPZql",
        "outputId": "28810a96-f534-4808-cdb2-b452ee49af7c"
      },
      "execution_count": null,
      "outputs": [
        {
          "output_type": "stream",
          "name": "stdout",
          "text": [
            "Max Efficiency\n",
            "==============\n",
            "              \n",
            "n combined          n Brayton            n Rankine           \n",
            "----------------------------------------------------\n",
            "0.59                 0.55                 0.35                 \n"
          ]
        }
      ]
    }
  ]
}